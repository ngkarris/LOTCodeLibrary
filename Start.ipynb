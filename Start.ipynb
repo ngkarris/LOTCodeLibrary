{
 "cells": [
  {
   "cell_type": "code",
   "execution_count": 73,
   "metadata": {},
   "outputs": [],
   "source": [
    "import numpy as np\n",
    "import matplotlib.pyplot as pl\n",
    "import ot\n",
    "import ot.plot\n",
    "\n",
    "import os"
   ]
  },
  {
   "cell_type": "code",
   "execution_count": 75,
   "metadata": {},
   "outputs": [
    {
     "name": "stdout",
     "output_type": "stream",
     "text": [
      "/Users/NGKarris/Documents/UCSD/Research/LOTLibrary\n"
     ]
    }
   ],
   "source": [
    "# SANDBOX\n",
    "\n",
    "print(os.getcwd())\n",
    "\n",
    "newdirpath = os.path.join(os.getcwd(), \"NewFolder\")\n",
    "os.mkdir(newdirpath)"
   ]
  },
  {
   "cell_type": "code",
   "execution_count": 64,
   "metadata": {},
   "outputs": [],
   "source": [
    "# (NOT NEEDED NOW) calculates barycentric projection of OT map\n",
    "#\n",
    "# x_ref, x_tar : (num,dim) matrices of the reference and target points\n",
    "# p_ref, p_tar : (num,) probability vectors\n",
    "# C : ground cost (num_ref,num_tar) matrix\n",
    "\n",
    "def calc_OT_map(x_ref, x_tar, p_ref=None,p_tar=None,\n",
    "                C=None, sinkhorn=False, lambd=1, normalize_T=True):\n",
    "    \n",
    "    num_ref, dim_ref = x_ref.shape              # number of points, and\n",
    "    num_tar, dim_tar = x_tar.shape              # dimension of those points\n",
    "    if p_ref is None:\n",
    "        p_ref = np.ones((num_ref,))/num_ref     # if not given, assume the\n",
    "    if p_tar is None:                           # probability density is uniform\n",
    "        p_tar = np.ones((num_tar,))/num_tar\n",
    "    \n",
    "    if C is None:\n",
    "        assert dim_ref == dim_tar\n",
    "        C = ot.dist(x_ref, x_tar)               # ground cost is square distance\n",
    "    \n",
    "    # G : (num_ref,num_tar) matrix encoding of OT map\n",
    "    if sinkhorn:\n",
    "        G = ot.sinkhorn(p_ref, p_tar, C, lambd)\n",
    "    else:\n",
    "        G = ot.emd(p_ref, p_tar, C)\n",
    "    \n",
    "    \n",
    "    Gstochastic = G/G.sum(axis=1)[:,None]       # row-normalized G\n",
    "    T = Gstochastic @ x_tar                     # barycentric projection of G\n",
    "    if normalize_T:\n",
    "        T = T/np.sqrt(dim_ref)                  \n",
    "    return T"
   ]
  },
  {
   "cell_type": "code",
   "execution_count": 65,
   "metadata": {},
   "outputs": [],
   "source": [
    "# compute_cost\n",
    "\n",
    "# returns :\n",
    "    # C : (num_ref,num_tar) ground cost matrix\n",
    "\n",
    "# parameters:\n",
    "    # x_ref : (num_ref,dim_ref) num_ref reference points of dimension dim_ref\n",
    "    # x_tar : (num_tar,dim_tar) num_tar target points of dimension dim_tar\n",
    "        # if None then x_tar = x_ref\n",
    "    # metric : method to use to compute costs, e.g.\n",
    "        # \"square_euclidean\" , \"euclidean\" , \"discrete\" \n",
    "\n",
    "def compute_cost(x_ref, x_tar = None, metric = \"square_euclidean\"):\n",
    "    \n",
    "    if x_tar is None:\n",
    "        x_tar = x_ref\n",
    "\n",
    "    assert x_ref.shape[1] == x_tar.shape[1]\n",
    "    \n",
    "    # c(x,y) = ||x-y||_2^2\n",
    "    if metric == \"square_euclidean\":\n",
    "        C = ot.dist(x_ref, x_tar)\n",
    "    \n",
    "    # c(x,y) = ||x-y||_2\n",
    "    elif metric == \"euclidean\":\n",
    "        C = ot.dist(x_ref, x_tar, 'euclidean')\n",
    "    \n",
    "    # c(x,y) = {1 if x != y},{0 if x == y}\n",
    "    elif metric == \"discrete\":\n",
    "        num_ref = x_ref.shape[0]\n",
    "        num_tar = x_tar.shape[0]\n",
    "        assert num_ref == num_tar\n",
    "        C = np.ones((num_ref, num_tar)) - np.identity(num_ref)\n",
    "    \n",
    "    return C"
   ]
  },
  {
   "cell_type": "code",
   "execution_count": 66,
   "metadata": {},
   "outputs": [],
   "source": [
    "# create_plan\n",
    "\n",
    "# returns :\n",
    "    # G : (num_ref,num_tar) encoding of OT plan\n",
    "\n",
    "# parameters :\n",
    "    # p_ref : (num_ref,) reference weights\n",
    "    # p_tar : (num_ref,) target weights\n",
    "    # C : (num_ref,num_tar) cost matrix\n",
    "    # sinkhorn : bool whether to use sinkhorn\n",
    "    # beta : regularization parameter\n",
    "\n",
    "def create_plan(p_ref, p_tar, C, sinkhorn=False, beta = 0.01):\n",
    "    \n",
    "    if sinkhorn:\n",
    "        G = ot.sinkhorn(p_ref, p_tar, C, beta)\n",
    "    else:\n",
    "        G = ot.emd(p_ref, p_tar, C)\n",
    "    \n",
    "    return G"
   ]
  },
  {
   "cell_type": "code",
   "execution_count": 67,
   "metadata": {},
   "outputs": [],
   "source": [
    "# compute_barycentric_map\n",
    "\n",
    "# returns :\n",
    "    # T : (num_ref, num_tar) barycentric projection map\n",
    "\n",
    "# parameters :\n",
    "    # G : (num_ref, num_tar) encoding of OT plan\n",
    "    # x_tar : (num_tar,dim_tar) num_tar target points of dimension dim_tar\n",
    "\n",
    "def compute_barycentric_map(G, x_tar):\n",
    "    \n",
    "    Gstochastic = G/G.sum(axis=1)[:,None]       # row-normalized G\n",
    "    T = Gstochastic @ x_tar                     # barycentric projection of G\n",
    "       \n",
    "    return T"
   ]
  },
  {
   "cell_type": "code",
   "execution_count": 68,
   "metadata": {},
   "outputs": [
    {
     "name": "stdout",
     "output_type": "stream",
     "text": [
      "[[0. 0.]\n",
      " [1. 0.]\n",
      " [2. 0.]]\n",
      "X_TAR = [[0. 0.]\n",
      " [1. 0.]\n",
      " [2. 0.]]\n",
      "[[0. 1. 4.]\n",
      " [1. 0. 1.]\n",
      " [4. 1. 0.]]\n",
      "[[1. 2. 0.]\n",
      " [0. 0. 2.]\n",
      " [0. 0. 1.]]\n",
      "MAP =  [[0.66666667 0.        ]\n",
      " [2.         0.        ]\n",
      " [2.         0.        ]]\n"
     ]
    }
   ],
   "source": [
    "class LOT(object):\n",
    "    def __init__(self, x_ref, x_tar, p_ref=None, p_tar=None, sinkhorn = False, beta = 0.01, metric = \"square_euclidean\"):\n",
    "        self.x_ref = x_ref\n",
    "        self.x_tar = x_tar\n",
    "\n",
    "        self.num_ref, self.dim_ref = x_ref.shape\n",
    "        self.num_tar, self.dim_tar = x_tar.shape\n",
    "        if p_ref is None:\n",
    "            self.p_ref = np.ones((self.num_ref,))/self.num_ref\n",
    "        else:\n",
    "            self.p_ref = p_ref\n",
    "        if p_tar is None:\n",
    "            self.p_tar = np.ones((self.num_tar,))/self.num_tar\n",
    "        else:\n",
    "            self.p_tar = p_tar\n",
    "        \n",
    "        self.sinkhorn = sinkhorn\n",
    "        self.beta = beta\n",
    "        self.metric = metric\n",
    "        self.cost = None\n",
    "        self.plan = None\n",
    "        self.OT_map = None\n",
    "\n",
    "    def calc_OT_map(self,):\n",
    "        self.cost = compute_cost(self.x_ref, self.x_tar, self.metric)\n",
    "        print(self.cost)\n",
    "        self.plan = create_plan(self.p_ref, self.p_tar, self.cost, self.sinkhorn, self.beta)\n",
    "        print(self.plan)\n",
    "        self.OT_map = compute_barycentric_map(self.plan, self.x_tar)\n",
    "\n",
    "lot1 = LOT(ref, tar, pr, pt, False, 0.01)\n",
    "print(lot1.x_ref)\n",
    "print(\"X_TAR =\",lot1.x_tar)\n",
    "lot1.calc_OT_map()\n",
    "print(\"MAP = \", lot1.OT_map)"
   ]
  },
  {
   "cell_type": "code",
   "execution_count": null,
   "metadata": {},
   "outputs": [],
   "source": [
    "# create_directory\n",
    "\n",
    "# returns :\n",
    "    # void\n",
    "\n",
    "# parameters :\n",
    "    # base_path : str with path of base directory\n",
    "    # dir_name : str with name of new directory\n",
    "\n",
    "def create_directory(base_path, dir_name):\n",
    "    path = os.path.join(base_path, dir_name)\n",
    "    try:\n",
    "        os.mkdir(path)\n",
    "    except:\n",
    "        print(\"Directory Already Exists\")"
   ]
  }
 ],
 "metadata": {
  "kernelspec": {
   "display_name": "LOTLibrary",
   "language": "python",
   "name": "python3"
  },
  "language_info": {
   "codemirror_mode": {
    "name": "ipython",
    "version": 3
   },
   "file_extension": ".py",
   "mimetype": "text/x-python",
   "name": "python",
   "nbconvert_exporter": "python",
   "pygments_lexer": "ipython3",
   "version": "3.10.9"
  },
  "orig_nbformat": 4,
  "vscode": {
   "interpreter": {
    "hash": "2111b672a174db7aea02b37c684c11ef5c166a0fc60f7c385b8a79ad19a7c5a2"
   }
  }
 },
 "nbformat": 4,
 "nbformat_minor": 2
}

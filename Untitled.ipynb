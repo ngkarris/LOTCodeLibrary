{
 "cells": [
  {
   "cell_type": "code",
   "execution_count": 1,
   "id": "26f026c2",
   "metadata": {},
   "outputs": [],
   "source": [
    "import numpy as np"
   ]
  },
  {
   "cell_type": "code",
   "execution_count": 2,
   "id": "b7f5f8f4",
   "metadata": {},
   "outputs": [],
   "source": [
    "Z = np.zeros((5,5))\n",
    "R = np.random.rand(5,5)\n",
    "I = np.identity(5)\n",
    "ones = np.ones((5,5))"
   ]
  },
  {
   "cell_type": "code",
   "execution_count": 3,
   "id": "26e0b101",
   "metadata": {},
   "outputs": [
    {
     "data": {
      "text/plain": [
       "array([[0.50273317, 0.74289094, 0.00668821, 0.92963693, 0.36247784],\n",
       "       [0.70109278, 0.07715979, 0.80179956, 0.85768323, 0.98168849],\n",
       "       [0.32476955, 0.7731004 , 0.77651744, 0.97446054, 0.91969782],\n",
       "       [0.90340959, 0.80151735, 0.65533103, 0.91859441, 0.32025923],\n",
       "       [0.32556428, 0.6542292 , 0.58929495, 0.02177272, 0.04833715]])"
      ]
     },
     "execution_count": 3,
     "metadata": {},
     "output_type": "execute_result"
    }
   ],
   "source": [
    "np.matmul(I,R)"
   ]
  },
  {
   "cell_type": "code",
   "execution_count": 4,
   "id": "37f6f661",
   "metadata": {},
   "outputs": [
    {
     "data": {
      "text/plain": [
       "array([[1., 1., 1., 1., 1.],\n",
       "       [1., 1., 1., 1., 1.],\n",
       "       [1., 1., 1., 1., 1.],\n",
       "       [1., 1., 1., 1., 1.],\n",
       "       [1., 1., 1., 1., 1.]])"
      ]
     },
     "execution_count": 4,
     "metadata": {},
     "output_type": "execute_result"
    }
   ],
   "source": [
    "np.matmul(I,ones)"
   ]
  },
  {
   "cell_type": "code",
   "execution_count": 5,
   "id": "f287902c",
   "metadata": {},
   "outputs": [
    {
     "data": {
      "text/plain": [
       "array([[2.54442709, 2.54442709, 2.54442709, 2.54442709, 2.54442709],\n",
       "       [3.41942385, 3.41942385, 3.41942385, 3.41942385, 3.41942385],\n",
       "       [3.76854574, 3.76854574, 3.76854574, 3.76854574, 3.76854574],\n",
       "       [3.59911161, 3.59911161, 3.59911161, 3.59911161, 3.59911161],\n",
       "       [1.63919831, 1.63919831, 1.63919831, 1.63919831, 1.63919831]])"
      ]
     },
     "execution_count": 5,
     "metadata": {},
     "output_type": "execute_result"
    }
   ],
   "source": [
    "np.matmul(R,ones)"
   ]
  },
  {
   "cell_type": "code",
   "execution_count": null,
   "id": "22b27889",
   "metadata": {},
   "outputs": [],
   "source": []
  },
  {
   "cell_type": "code",
   "execution_count": null,
   "id": "03480297",
   "metadata": {},
   "outputs": [],
   "source": []
  }
 ],
 "metadata": {
  "kernelspec": {
   "display_name": "Python 3 (ipykernel)",
   "language": "python",
   "name": "python3"
  },
  "language_info": {
   "codemirror_mode": {
    "name": "ipython",
    "version": 3
   },
   "file_extension": ".py",
   "mimetype": "text/x-python",
   "name": "python",
   "nbconvert_exporter": "python",
   "pygments_lexer": "ipython3",
   "version": "3.10.9"
  }
 },
 "nbformat": 4,
 "nbformat_minor": 5
}
